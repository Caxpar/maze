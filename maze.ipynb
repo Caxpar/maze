{
 "cells": [
  {
   "cell_type": "code",
   "execution_count": 61,
   "metadata": {
    "collapsed": true
   },
   "outputs": [],
   "source": [
    "import numpy as np\n",
    "import random\n",
    "\n",
    "path = [] # the final result list\n",
    "dim = 10\n",
    "p = 0.1\n",
    "pic_size = 7\n",
    "maze = np.zeros((dim, dim))\n",
    "for i in range(dim):\n",
    "    for j in range(dim):\n",
    "        if(random.random() < p):\n",
    "            maze[i][j] = 1\n",
    "# maze"
   ]
  },
  {
   "cell_type": "code",
   "execution_count": 62,
   "metadata": {},
   "outputs": [
    {
     "name": "stdout",
     "output_type": "stream",
     "text": [
      "((4, 5, True), (6, 5, True), (5, 4, True), (5, 6, True))\n"
     ]
    }
   ],
   "source": [
    "# 返回某一点的邻居点\n",
    "def neighbor(o):\n",
    "    t = ()\n",
    "    x, y, step = o\n",
    "    if x > 0:\n",
    "        t += (x-1, y, True if maze[x-1][y] == 0 else False),\n",
    "    if x < dim - 1:\n",
    "        t += (x+1, y, True if maze[x+1][y] == 0 else False),\n",
    "    if y > 0:\n",
    "        t += (x, y-1, True if maze[x][y-1] == 0 else False),\n",
    "    if y < dim - 1:\n",
    "        t += (x, y+1, True if maze[x][y+1] == 0 else False),\n",
    "    return t\n",
    "\n",
    "print(neighbor((5, 5, 0)))"
   ]
  },
  {
   "cell_type": "code",
   "execution_count": 63,
   "metadata": {
    "collapsed": true
   },
   "outputs": [],
   "source": [
    "import matplotlib.pyplot as plt\n",
    "import matplotlib.patches as mpatches\n",
    "\n",
    "def draw_maze(with_path=False):\n",
    "    fig, ax = plt.subplots()\n",
    "    for i in range(np.shape(maze)[0]):\n",
    "        for j in range(np.shape(maze)[1]):\n",
    "            x = i*10 + 1\n",
    "            y = j*10 + 1\n",
    "            h = 9\n",
    "            w = 9\n",
    "            cl = '#cc6600' if maze[i][j] == 1 else '#F0EEEE'\n",
    "            if with_path is True and (i, j) in path:\n",
    "                cl = 'green'\n",
    "            rect = mpatches.Rectangle([x, y], w, h, color=cl)\n",
    "            ax.add_patch(rect)\n",
    "\n",
    "    plt.axis([0, dim*10 + 1, 0, dim*10 + 1])\n",
    "    fig.set_size_inches(pic_size, pic_size)\n",
    "    plt.show()"
   ]
  },
  {
   "cell_type": "code",
   "execution_count": 64,
   "metadata": {},
   "outputs": [
    {
     "data": {
      "image/png": "[encoded data removed]",
      "text/plain": [
       "<matplotlib.figure.Figure at 0x112acacc0>"
      ]
     },
     "metadata": {},
     "output_type": "display_data"
    }
   ],
   "source": [
    "draw_maze()"
   ]
  },
  {
   "cell_type": "code",
   "execution_count": 65,
   "metadata": {
    "collapsed": true
   },
   "outputs": [],
   "source": [
    "# 初始化工作\n",
    "path_stack = []\n",
    "path_stack.append((0, 0, -1))\n",
    "visited = [(0, 0)]\n",
    "all_path = [(0, 0, 0)]\n",
    "dest = (dim-1, dim-1)"
   ]
  },
  {
   "cell_type": "code",
   "execution_count": 66,
   "metadata": {},
   "outputs": [
    {
     "name": "stdout",
     "output_type": "stream",
     "text": [
      "get to the dest: 87\n"
     ]
    }
   ],
   "source": [
    "# BFS 算法\n",
    "front, rear = 0, 1\n",
    "is_end = False\n",
    "while front != rear:\n",
    "    for nx, ny, nt in neighbor(path_stack[front]):\n",
    "        if (nt is True) and (nx, ny) not in visited:\n",
    "            # print('append')\n",
    "            if (nx, ny) == dest:\n",
    "                print('get to the dest:',front)\n",
    "                # print(path_stack)\n",
    "                path.append((nx, ny))\n",
    "                temp_parent = front\n",
    "                while temp_parent != -1:\n",
    "                    node_x, node_y, node_p = path_stack[temp_parent]\n",
    "                    path.append((node_x, node_y))\n",
    "                    temp_parent = node_p\n",
    "                is_end = True\n",
    "                break\n",
    "            path_stack.append((nx, ny, front))\n",
    "            visited.append((nx, ny))\n",
    "            rear += 1\n",
    "    if is_end:\n",
    "        break\n",
    "    front += 1"
   ]
  },
  {
   "cell_type": "code",
   "execution_count": 67,
   "metadata": {
    "collapsed": true
   },
   "outputs": [],
   "source": [
    "# path"
   ]
  },
  {
   "cell_type": "code",
   "execution_count": 68,
   "metadata": {
    "scrolled": false
   },
   "outputs": [
    {
     "data": {
      "image/png": "[encoded data removed]",
      "text/plain": [
       "<matplotlib.figure.Figure at 0x1107cbdd8>"
      ]
     },
     "metadata": {},
     "output_type": "display_data"
    }
   ],
   "source": [
    "draw_maze(with_path=True)"
   ]
  },
  {
   "cell_type": "code",
   "execution_count": 69,
   "metadata": {},
   "outputs": [
    {
     "data": {
      "text/plain": [
       "89"
      ]
     },
     "execution_count": 69,
     "metadata": {},
     "output_type": "execute_result"
    }
   ],
   "source": [
    "len(visited)"
   ]
  },
  {
   "cell_type": "code",
   "execution_count": 1,
   "metadata": {
    "collapsed": true,
    "scrolled": true
   },
   "outputs": [],
   "source": [
    "#Jiyu's work"
   ]
  },
  {
   "cell_type": "code",
   "execution_count": 19,
   "metadata": {
    "collapsed": true
   },
   "outputs": [],
   "source": [
    "#generate a maze randomly\n",
    "import numpy as np\n",
    "import random\n",
    "def make_maze(dim, p):\n",
    "    maze = np.zeros((dim, dim))\n",
    "    for i in range(dim):\n",
    "        for j in range(dim):\n",
    "            if(random.random() < p):\n",
    "                maze[i][j] = 1\n",
    "    return maze\n",
    "\n",
    "dim = 10\n",
    "p = 0.2\n",
    "maze = make_maze(dim, p)"
   ]
  },
  {
   "cell_type": "code",
   "execution_count": 20,
   "metadata": {
    "collapsed": true
   },
   "outputs": [],
   "source": [
    "#method to use\n",
    "from collections import deque\n",
    "def add_method(fringe, method):\n",
    "    if method == 1 or method == 0:\n",
    "        def add(node):\n",
    "            fringe.append(node)\n",
    "    return add\n",
    "def get_method(fringe,method):\n",
    "    if method == 1:\n",
    "        def get():\n",
    "            return fringe.pop()\n",
    "    elif method == 0:\n",
    "        def get():\n",
    "            return fringe.popleft()\n",
    "    return get\n",
    "\n",
    "def make_node(method):\n",
    "    if method == 1:\n",
    "        fringe = []\n",
    "    elif method == 0:\n",
    "        fringe = deque([])\n",
    "    fringe.append((0,0))\n",
    "    return fringe\n",
    "\n",
    "def explore_method(visited, fringe):\n",
    "    def explore(node):\n",
    "        x, y = node\n",
    "        nodes_to_add = []\n",
    "        if x-1 > -1 and (x-1, y) not in visited and maze[x-1][y] == 0 and (x-1, y) not in fringe:\n",
    "            nodes_to_add.append((x-1, y))\n",
    "        if y-1 > -1 and (x, y-1) not in visited and maze[x][y-1] == 0 and (x, y-1) not in fringe:\n",
    "            nodes_to_add.append((x, y-1))\n",
    "        if y+1 < dim and (x, y+1) not in visited and maze[x][y+1] == 0 and (x, y+1) not in fringe:\n",
    "            nodes_to_add.append((x,y+1))\n",
    "        if x+1 < dim and (x+1, y) not in visited and maze[x+1][y] == 0 and (x+1, y) not in fringe:\n",
    "            nodes_to_add.append((x+1,y))\n",
    "        return nodes_to_add\n",
    "    return explore"
   ]
  },
  {
   "cell_type": "code",
   "execution_count": 21,
   "metadata": {
    "collapsed": true
   },
   "outputs": [],
   "source": [
    "def search(maze, method, goal):\n",
    "    \"\"\" 0 for BFS; 1 for DFS; \"\"\"\n",
    "    \n",
    "    fringe = make_node(method)\n",
    "    add = add_method(fringe, method)\n",
    "    get = get_method(fringe, method)\n",
    "    visited = []\n",
    "    path = []\n",
    "    explore = explore_method(visited, fringe)\n",
    "    while fringe:\n",
    "        node = get()\n",
    "        visited.append(node)\n",
    "        path.append(node)\n",
    "        if node == goal:\n",
    "            return path\n",
    "        fringe.extend(explore(node))\n",
    "    return False"
   ]
  },
  {
   "cell_type": "code",
   "execution_count": 22,
   "metadata": {},
   "outputs": [
    {
     "name": "stdout",
     "output_type": "stream",
     "text": [
      "[[ 0.  1.  0.  1.  0.  0.  0.  0.  0.  1.]\n",
      " [ 0.  0.  0.  1.  0.  0.  0.  0.  1.  0.]\n",
      " [ 0.  1.  0.  0.  0.  0.  1.  0.  0.  1.]\n",
      " [ 0.  0.  0.  1.  1.  1.  0.  0.  0.  0.]\n",
      " [ 0.  0.  0.  1.  0.  1.  0.  0.  0.  0.]\n",
      " [ 1.  0.  0.  0.  0.  0.  1.  0.  0.  1.]\n",
      " [ 1.  0.  0.  0.  0.  0.  0.  0.  1.  0.]\n",
      " [ 1.  0.  1.  0.  0.  0.  0.  0.  0.  1.]\n",
      " [ 0.  1.  0.  1.  0.  0.  0.  0.  0.  0.]\n",
      " [ 1.  0.  0.  0.  0.  0.  0.  0.  0.  0.]]\n",
      "[(0, 0), (1, 0), (1, 1), (2, 0), (1, 2), (3, 0), (0, 2), (2, 2), (3, 1), (4, 0), (2, 3), (3, 2), (4, 1), (2, 4), (4, 2), (5, 1), (1, 4), (2, 5), (5, 2), (6, 1), (0, 4), (1, 5), (5, 3), (6, 2), (7, 1), (0, 5), (1, 6), (5, 4), (6, 3), (0, 6), (1, 7), (4, 4), (5, 5), (6, 4), (7, 3), (0, 7), (2, 7), (6, 5), (7, 4), (0, 8), (2, 8), (3, 7), (6, 6), (7, 5), (8, 4), (3, 8), (3, 6), (4, 7), (6, 7), (7, 6), (8, 5), (9, 4), (3, 9), (4, 8), (4, 6), (5, 7), (7, 7), (8, 6), (9, 5), (9, 3), (4, 9), (5, 8), (7, 8), (8, 7), (9, 6), (9, 2), (8, 8), (9, 7), (8, 2), (9, 1), (8, 9), (9, 8), (9, 9)]\n",
      "[(0, 0), (1, 0), (2, 0), (3, 0), (4, 0), (4, 1), (5, 1), (6, 1), (7, 1), (6, 2), (6, 3), (7, 3), (7, 4), (8, 4), (9, 4), (9, 5), (9, 6), (9, 7), (9, 8), (9, 9)]\n"
     ]
    }
   ],
   "source": [
    "#Example\n",
    "path0 = search(maze, 0, (9,9))\n",
    "path1 = search(maze, 1, (9,9))\n",
    "print(maze)\n",
    "print(path0)\n",
    "print(path1)"
   ]
  },
  {
   "cell_type": "code",
   "execution_count": null,
   "metadata": {
    "collapsed": true
   },
   "outputs": [],
   "source": []
  },
  {
   "cell_type": "code",
   "execution_count": null,
   "metadata": {
    "collapsed": true
   },
   "outputs": [],
   "source": []
  }
 ],
 "metadata": {
  "kernelspec": {
   "display_name": "Python 3",
   "language": "python",
   "name": "python3"
  },
  "language_info": {
   "codemirror_mode": {
    "name": "ipython",
    "version": 3
   },
   "file_extension": ".py",
   "mimetype": "text/x-python",
   "name": "python",
   "nbconvert_exporter": "python",
   "pygments_lexer": "ipython3",
   "version": "3.6.1"
  }
 },
 "nbformat": 4,
 "nbformat_minor": 2
}
