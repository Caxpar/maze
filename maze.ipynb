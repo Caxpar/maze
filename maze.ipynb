{
 "cells": [
  {
   "cell_type": "code",
   "execution_count": 207,
   "metadata": {
    "collapsed": true
   },
   "outputs": [],
   "source": [
    "import numpy as np\n",
    "import random\n",
    "\n",
    "path = [] # the final result list\n",
    "dim = 10\n",
    "p = 0.1\n",
    "maze = np.zeros((dim, dim))\n",
    "for i in range(dim):\n",
    "    for j in range(dim):\n",
    "        if(random.random() < p):\n",
    "            maze[i][j] = 1\n",
    "# maze"
   ]
  },
  {
   "cell_type": "code",
   "execution_count": 208,
   "metadata": {},
   "outputs": [
    {
     "name": "stdout",
     "output_type": "stream",
     "text": [
      "((4, 5, True), (6, 5, True), (5, 4, True), (5, 6, True))\n"
     ]
    }
   ],
   "source": [
    "# 返回某一点的邻居点\n",
    "def neighbor(o):\n",
    "    t = ()\n",
    "    x, y, step = o\n",
    "    if x > 0:\n",
    "        t += (x-1, y, True if maze[x-1][y] == 0 else False),\n",
    "    if x < dim - 1:\n",
    "        t += (x+1, y, True if maze[x+1][y] == 0 else False),\n",
    "    if y > 0:\n",
    "        t += (x, y-1, True if maze[x][y-1] == 0 else False),\n",
    "    if y < dim - 1:\n",
    "        t += (x, y+1, True if maze[x][y+1] == 0 else False),\n",
    "    return t\n",
    "\n",
    "print(neighbor((5, 5, 0)))"
   ]
  },
  {
   "cell_type": "code",
   "execution_count": 209,
   "metadata": {
    "collapsed": true
   },
   "outputs": [],
   "source": [
    "import matplotlib.pyplot as plt\n",
    "import matplotlib.patches as mpatches\n",
    "\n",
    "def draw_maze():\n",
    "    fig, ax = plt.subplots()\n",
    "    for i in range(np.shape(maze)[0]):\n",
    "        for j in range(np.shape(maze)[1]):\n",
    "            x = i*10 + 1\n",
    "            y = j*10 + 1\n",
    "            h = 9\n",
    "            w = 9\n",
    "            cl = '#cc6600' if maze[i][j] == 1 else '#F0EEEE'\n",
    "            rect = mpatches.Rectangle([x, y], w, h, color=cl)\n",
    "            ax.add_patch(rect)\n",
    "\n",
    "    plt.axis([0, dim*10 + 1, 0, dim*10 + 1])\n",
    "    fig.set_size_inches(6, 6)\n",
    "    plt.show()"
   ]
  },
  {
   "cell_type": "code",
   "execution_count": 210,
   "metadata": {
    "collapsed": true
   },
   "outputs": [],
   "source": [
    "def draw_maze_with_path():\n",
    "    fig, ax = plt.subplots()\n",
    "    for i in range(np.shape(maze)[0]):\n",
    "        for j in range(np.shape(maze)[1]):\n",
    "            x = i*10 + 1\n",
    "            y = j*10 + 1\n",
    "            h = 9\n",
    "            w = 9\n",
    "            cl = '#cc6600' if maze[i][j] == 1 else '#F0EEEE'\n",
    "            if (i, j) in path:\n",
    "                cl = 'green'\n",
    "            rect = mpatches.Rectangle([x, y], w, h, color=cl)\n",
    "            ax.add_patch(rect)\n",
    "\n",
    "    plt.axis([0, dim*10 + 1, 0, dim*10 + 1])\n",
    "    fig.set_size_inches(6, 6)\n",
    "    plt.show()"
   ]
  },
  {
   "cell_type": "code",
   "execution_count": 211,
   "metadata": {},
   "outputs": [
    {
     "data": {
      "image/png": "[encoded data removed]",
      "text/plain": [
       "<matplotlib.figure.Figure at 0x10ca3af60>"
      ]
     },
     "metadata": {},
     "output_type": "display_data"
    }
   ],
   "source": [
    "draw_maze()"
   ]
  },
  {
   "cell_type": "code",
   "execution_count": 212,
   "metadata": {
    "collapsed": true
   },
   "outputs": [],
   "source": [
    "# 初始化工作\n",
    "path_stack = []\n",
    "path_stack.append((0, 0, -1))\n",
    "visited = [(0, 0)]\n",
    "all_path = [(0, 0, 0)]\n",
    "dest = (9, 9)"
   ]
  },
  {
   "cell_type": "code",
   "execution_count": 213,
   "metadata": {},
   "outputs": [
    {
     "name": "stdout",
     "output_type": "stream",
     "text": [
      "get to the dest: 89\n"
     ]
    }
   ],
   "source": [
    "# BFS 算法\n",
    "front, rear = 0, 1\n",
    "is_end = False\n",
    "while front != rear:\n",
    "    for nx, ny, nt in neighbor(path_stack[front]):\n",
    "        if (nt is True) and (nx, ny) not in visited:\n",
    "            # print('append')\n",
    "            if (nx, ny) == dest:\n",
    "                print('get to the dest:',front)\n",
    "                # print(path_stack)\n",
    "                path.append((nx, ny))\n",
    "                temp_parent = front\n",
    "                while temp_parent != -1:\n",
    "                    node_x, node_y, node_p = path_stack[temp_parent]\n",
    "                    path.append((node_x, node_y))\n",
    "                    temp_parent = node_p\n",
    "                is_end = True\n",
    "                break\n",
    "            path_stack.append((nx, ny, front))\n",
    "            visited.append((nx, ny))\n",
    "            rear += 1\n",
    "    if is_end:\n",
    "        break\n",
    "    front += 1"
   ]
  },
  {
   "cell_type": "code",
   "execution_count": 214,
   "metadata": {},
   "outputs": [
    {
     "data": {
      "text/plain": [
       "[(9, 9),\n",
       " (8, 9),\n",
       " (8, 8),\n",
       " (8, 7),\n",
       " (8, 6),\n",
       " (8, 5),\n",
       " (8, 4),\n",
       " (8, 3),\n",
       " (8, 2),\n",
       " (7, 2),\n",
       " (7, 1),\n",
       " (7, 0),\n",
       " (6, 0),\n",
       " (5, 0),\n",
       " (4, 0),\n",
       " (3, 0),\n",
       " (2, 0),\n",
       " (1, 0),\n",
       " (0, 0)]"
      ]
     },
     "execution_count": 214,
     "metadata": {},
     "output_type": "execute_result"
    }
   ],
   "source": [
    "path"
   ]
  },
  {
   "cell_type": "code",
   "execution_count": 215,
   "metadata": {},
   "outputs": [
    {
     "data": {
      "image/png": "[encoded data removed]",
      "text/plain": [
       "<matplotlib.figure.Figure at 0x10c3fa780>"
      ]
     },
     "metadata": {},
     "output_type": "display_data"
    }
   ],
   "source": [
    "draw_maze_with_path()"
   ]
  },
  {
   "cell_type": "code",
   "execution_count": 216,
   "metadata": {},
   "outputs": [
    {
     "data": {
      "text/plain": [
       "90"
      ]
     },
     "execution_count": 216,
     "metadata": {},
     "output_type": "execute_result"
    }
   ],
   "source": [
    "len(visited)"
   ]
  },
  {
   "cell_type": "code",
   "execution_count": null,
   "metadata": {
    "collapsed": true
   },
   "outputs": [],
   "source": []
  }
 ],
 "metadata": {
  "kernelspec": {
   "display_name": "Python 3",
   "language": "python",
   "name": "python3"
  },
  "language_info": {
   "codemirror_mode": {
    "name": "ipython",
    "version": 3
   },
   "file_extension": ".py",
   "mimetype": "text/x-python",
   "name": "python",
   "nbconvert_exporter": "python",
   "pygments_lexer": "ipython3",
   "version": "3.6.1"
  }
 },
 "nbformat": 4,
 "nbformat_minor": 2
}
